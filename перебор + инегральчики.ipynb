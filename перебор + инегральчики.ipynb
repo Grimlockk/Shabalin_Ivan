{
 "cells": [
  {
   "cell_type": "code",
   "execution_count": 6,
   "id": "fb66e76f",
   "metadata": {},
   "outputs": [
    {
     "name": "stdout",
     "output_type": "stream",
     "text": [
      "['a', 2, 3]\n"
     ]
    }
   ],
   "source": [
    "arr=[1,2,3]\n",
    "if arr[0]==1:\n",
    "    arr[0]=\"a\"\n",
    "print(arr)    "
   ]
  },
  {
   "cell_type": "code",
   "execution_count": null,
   "id": "b18f9234",
   "metadata": {},
   "outputs": [],
   "source": [
    "def permute(data, i, length):\n",
    "    if i == length:\n",
    "        b=[\"a\",\"b\",\"c\",\"d\",\"e\",\"f\",\"g\",\"h\",\"i\",\"j\",\"k\",\"l\",\"m\",\"n\",\"o\",\"p\",\"q\",\"s\",\"t\",\"u\",\"v\",\"w\",\"x\",\"y\",\"z\"]\n",
    "        count=0\n",
    "        while count<=len(data):\n",
    "            data[count]=b[count]\n",
    "            count+=1\n",
    "        print(''.join(data))\n",
    "    else:\n",
    "        for j in range(i, length):\n",
    "            # Swap the value of i with j\n",
    "            data[i], data[j] = data[j], data[i]\n",
    "            permute(data, i+1, length)\n",
    "            # Swap the value of i back with j to backtrack\n",
    "            data[i], data[j] = data[j], data[i]\n",
    "\n",
    "arr = list(input(\"Введите входные данные: \"))\n",
    "permute(arr, 0, len(arr))\n",
    "\n"
   ]
  },
  {
   "cell_type": "code",
   "execution_count": 11,
   "id": "65596f00",
   "metadata": {},
   "outputs": [
    {
     "name": "stdout",
     "output_type": "stream",
     "text": [
      "Введите входные данные: 123\n",
      "123\n",
      "132\n",
      "213\n",
      "231\n",
      "321\n",
      "312\n"
     ]
    }
   ],
   "source": [
    "def permute(data, i, length):\n",
    "    if i == length:\n",
    "        if data[0]==1:\n",
    "            data[0]=\"a\"\n",
    "        print(''.join(data))\n",
    "    else:\n",
    "        for j in range(i, length):\n",
    "            # Swap the value of i with j\n",
    "            data[i], data[j] = data[j], data[i]\n",
    "            permute(data, i+1, length)\n",
    "            # Swap the value of i back with j to backtrack\n",
    "            data[i], data[j] = data[j], data[i]\n",
    "\n",
    "arr = list(input(\"Введите входные данные: \"))\n",
    "permute(arr, 0, len(arr))\n"
   ]
  },
  {
   "cell_type": "code",
   "execution_count": 18,
   "id": "a545f614",
   "metadata": {},
   "outputs": [
    {
     "name": "stdout",
     "output_type": "stream",
     "text": [
      "Введите входные данные: 123\n",
      "abc\n",
      "acb\n",
      "bac\n",
      "bca\n",
      "cba\n",
      "cab\n"
     ]
    }
   ],
   "source": [
    "def permute(data, i, length):\n",
    "    if i == length: \n",
    "        c=['1','2','3','4','5','6','7','8','9','0']\n",
    "        b=[\"a\",\"b\",\"c\",\"d\",\"e\",\"f\",\"g\",\"h\",\"i\",\"j\",\"k\",\"l\",\"m\",\"n\",\"o\",\"p\",\"q\",\"s\",\"t\",\"u\",\"v\",\"w\",\"x\",\"y\",\"z\"]\n",
    "        i=0\n",
    "        for i in range(len(data)):\n",
    "            for j in range(10):\n",
    "                if data[i]==c[i]:\n",
    "                    data[i]=b[i]\n",
    "                elif data[i]==c[j]:\n",
    "                     data[i]==b[j]\n",
    "\n",
    "        print(''.join(data))\n",
    "    else:\n",
    "        for j in range(i, length):\n",
    "            data[i], data[j] = data[j], data[i]\n",
    "            permute(data, i+1, length)\n",
    "            data[i], data[j] = data[j], data[i]\n",
    "\n",
    "arr = list(input(\"Введите входные данные: \"))\n",
    "permute(arr, 0, len(arr))"
   ]
  },
  {
   "cell_type": "code",
   "execution_count": 20,
   "id": "de19b1d5",
   "metadata": {},
   "outputs": [
    {
     "name": "stdout",
     "output_type": "stream",
     "text": [
      "Введите степень многочлена: 3\n",
      "Введите коэффициент для x^3: 4\n",
      "Введите коэффициент для x^2: 5\n",
      "Введите коэффициент для x^1: 6\n",
      "Введите коэффициент для x^0: 4\n",
      "Многочлен: 4.0x^3 + 6.0x^2 + 5.0x^1 + 4.0x^0\n",
      "Его интеграл: 1.0x^4 + 2.0x^3 + 2.5x^2 + 4.0x^1+c\n"
     ]
    }
   ],
   "source": [
    "def integrate_polynomial():\n",
    "    # Запрос пользователю на ввод степени многочлена\n",
    "    degree = int(input(\"Введите степень многочлена: \"))\n",
    "\n",
    "    # Создание списка коэффициентов многочлена\n",
    "    polynomial_coeffs = []\n",
    "    for i in range(degree + 1):\n",
    "        coeff = float(input(f\"Введите коэффициент для x^{degree-i}: \"))\n",
    "        polynomial_coeffs.append(coeff)\n",
    "\n",
    "    # Разворот списка коэффициентов и преобразование в строку\n",
    "    polynomial_coeffs = polynomial_coeffs[::-1]\n",
    "    polynomial_str = \" + \".join([f\"{coeff}x^{len(polynomial_coeffs)-1-i}\" for i,coeff in enumerate(polynomial_coeffs)])\n",
    "    polynomial_str1 = \" + \".join([f\"{coeff/(len(polynomial_coeffs)-i)}x^{len(polynomial_coeffs)-i}\" for i,coeff in enumerate(polynomial_coeffs)])\n",
    "    # Вывод многочлена в виде строки\n",
    "    print(f\"Многочлен: {polynomial_str}\")\n",
    "    print(f\"Его интеграл: {polynomial_str1}+c\")\n",
    "integrate_polynomial()\n"
   ]
  },
  {
   "cell_type": "code",
   "execution_count": 26,
   "id": "3062c956",
   "metadata": {},
   "outputs": [
    {
     "name": "stdout",
     "output_type": "stream",
     "text": [
      "Введите выбор функции(cos или sin): cos\n",
      "Введите коэф-т а: 5\n",
      "Введите коэф-т b: 6\n",
      "Введите x: 9\n",
      "Функция :  cos(5x+6)\n",
      "Интеграл: 0.2sin(5x+6)+sin(6)\n",
      "Интеграл:  0.035209189294242285 + -0.27941549819892586\n"
     ]
    }
   ],
   "source": [
    "import numpy as np\n",
    "def integrate_trig():\n",
    "    choose=(input(\"Введите выбор функции(cos или sin): \"))\n",
    "    if choose==\"cos\":\n",
    "        a=int(input(\"Введите коэф-т а: \"))\n",
    "        b=int(input(\"Введите коэф-т b: \"))\n",
    "        x=int(input(\"Введите x: \"))\n",
    "        if a==0:\n",
    "            print(\"неправильный a\")\n",
    "            return False \n",
    "        print(f\"Функция :  cos({a}x+{b})\")\n",
    "        print(f\"Интеграл: {1/a}sin({a}x+{b})+sin({b})\")\n",
    "        intcos=((-1)/a)*np.sin(a*x*+b)\n",
    "        print(f\"Интеграл:  {intcos} + {np.sin(b)}\")\n",
    "    elif choose==\"sin\":  \n",
    "            a=int(input(\"Введите коэф-т а: \"))\n",
    "            b=int(input(\"Введите коэф-т b: \"))\n",
    "            x=int(input(\"Введите x: \"))\n",
    "            if a==0:\n",
    "                    print(\"неправильный a\")\n",
    "                    return False \n",
    "            print(f\"Функция :  sin({a}x+{b})\")    \n",
    "            print(f\"Интеграл :{(-1)/a}cos({a}x+{b}+ cos({b}))\")\n",
    "            intsin=((-1)/a)*np.cos(a*x*+b)\n",
    "            print(f\"Интеграл:  {intsin} +{np.cos(b)}\")\n",
    "integrate_trig()            "
   ]
  },
  {
   "cell_type": "code",
   "execution_count": 6,
   "id": "8e9013c1",
   "metadata": {},
   "outputs": [
    {
     "name": "stdout",
     "output_type": "stream",
     "text": [
      "Введите коэф-т а: 0\n",
      "Введите коэф-т b: 2\n",
      "Введите коэф-т c: 3\n",
      "Введите x: 5\n",
      "Исходная ф-я:  1/(2x+3)\n",
      "Её интеграл:  ln(2x + 3) + c\n",
      "Её интеграл:     2.5649493574615367 + c\n"
     ]
    }
   ],
   "source": [
    "import numpy as np\n",
    "def integrate_fraction():\n",
    "    a=int(input(\"Введите коэф-т а: \"))\n",
    "    b=int(input(\"Введите коэф-т b: \"))\n",
    "    c=int(input(\"Введите коэф-т c: \"))\n",
    "    x=int(input(\"Введите x: \"))\n",
    "    D=b**2-4*a*c\n",
    "    if D==0:\n",
    "        print(\"не вычислится интегральчик:\")\n",
    "        return False\n",
    "    elif a!=0 and b!=0 and c !=0:\n",
    "        print(f\"Исходная ф-я:  1/({a}x^2+{b}x+{c})\")\n",
    "        print(f\"Её интеграл:  {1/((b**2-4*a*c)**(1/2))}ln(({2*a}x+{b-((b**2-4*a*c)**(1/2))})/({2*a}x+{b+((b**2-4*a*c)**(1/2))})) + c\")\n",
    "        ln=1/((b**2-4*a*c)**(1/2))*np.log((2*a*x+b-((b**2-4*a*c)**(1/2)))/(2*a*x+b+((b**2-4*a*c)**(1/2)))) + 1/((b**2-4*a*c)**(1/2))*np.log((b-((b**2-4*a*c)**(1/2)))/(b+((b**2-4*a*c)**(1/2))))\n",
    "        print(f\"Её интеграл:     {ln}\")\n",
    "    elif a==0 and b!=0 and c!=0:\n",
    "        print(f\"Исходная ф-я:  1/({b}x+{c})\")\n",
    "        print(f\"Её интеграл:  ln({b}x + {c}) + c\")\n",
    "        ln=np.log(b*x + c)\n",
    "        print(f\"Её интеграл:     {ln} + c\")\n",
    "integrate_fraction()          "
   ]
  },
  {
   "cell_type": "code",
   "execution_count": null,
   "id": "7007e14b",
   "metadata": {},
   "outputs": [],
   "source": []
  }
 ],
 "metadata": {
  "kernelspec": {
   "display_name": "Python 3 (ipykernel)",
   "language": "python",
   "name": "python3"
  },
  "language_info": {
   "codemirror_mode": {
    "name": "ipython",
    "version": 3
   },
   "file_extension": ".py",
   "mimetype": "text/x-python",
   "name": "python",
   "nbconvert_exporter": "python",
   "pygments_lexer": "ipython3",
   "version": "3.10.9"
  }
 },
 "nbformat": 4,
 "nbformat_minor": 5
}
