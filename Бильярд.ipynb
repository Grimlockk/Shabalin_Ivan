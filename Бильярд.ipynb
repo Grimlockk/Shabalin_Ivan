{
 "cells": [
  {
   "cell_type": "code",
   "execution_count": 1,
   "id": "ba111443",
   "metadata": {},
   "outputs": [
    {
     "name": "stdout",
     "output_type": "stream",
     "text": [
      "Введите скорость 20\n",
      "Введите угол 30\n"
     ]
    },
    {
     "ename": "TclError",
     "evalue": "invalid command name \".!canvas\"",
     "output_type": "error",
     "traceback": [
      "\u001b[1;31m---------------------------------------------------------------------------\u001b[0m",
      "\u001b[1;31mTclError\u001b[0m                                  Traceback (most recent call last)",
      "Cell \u001b[1;32mIn[1], line 67\u001b[0m\n\u001b[0;32m     65\u001b[0m \u001b[38;5;28;01mif\u001b[39;00m \u001b[38;5;28mabs\u001b[39m(ball\u001b[38;5;241m.\u001b[39myspeed)\u001b[38;5;241m<\u001b[39m\u001b[38;5;241m=\u001b[39mcoef:\n\u001b[0;32m     66\u001b[0m     ball\u001b[38;5;241m.\u001b[39myspeed\u001b[38;5;241m=\u001b[39m\u001b[38;5;241m0\u001b[39m\n\u001b[1;32m---> 67\u001b[0m \u001b[43mball\u001b[49m\u001b[38;5;241;43m.\u001b[39;49m\u001b[43mgoto\u001b[49m\u001b[43m(\u001b[49m\u001b[43mball\u001b[49m\u001b[38;5;241;43m.\u001b[39;49m\u001b[43mxcor\u001b[49m\u001b[43m(\u001b[49m\u001b[43m)\u001b[49m\u001b[38;5;241;43m+\u001b[39;49m\u001b[43m \u001b[49m\u001b[43mball\u001b[49m\u001b[38;5;241;43m.\u001b[39;49m\u001b[43mxspeed\u001b[49m\u001b[43m,\u001b[49m\u001b[43m \u001b[49m\u001b[43mball\u001b[49m\u001b[38;5;241;43m.\u001b[39;49m\u001b[43mycor\u001b[49m\u001b[43m(\u001b[49m\u001b[43m)\u001b[49m\u001b[38;5;241;43m+\u001b[39;49m\u001b[43mball\u001b[49m\u001b[38;5;241;43m.\u001b[39;49m\u001b[43myspeed\u001b[49m\u001b[43m)\u001b[49m\n\u001b[0;32m     68\u001b[0m \u001b[38;5;28;01mif\u001b[39;00m ball\u001b[38;5;241m.\u001b[39mxcor()\u001b[38;5;241m+\u001b[39mball\u001b[38;5;241m.\u001b[39mxspeed\u001b[38;5;241m/\u001b[39m\u001b[38;5;241m1.8\u001b[39m \u001b[38;5;241m>\u001b[39m\u001b[38;5;241m=\u001b[39m\u001b[38;5;241m500\u001b[39m \u001b[38;5;129;01mor\u001b[39;00m  ball\u001b[38;5;241m.\u001b[39mxcor()\u001b[38;5;241m+\u001b[39mball\u001b[38;5;241m.\u001b[39mxspeed\u001b[38;5;241m/\u001b[39m\u001b[38;5;241m1.8\u001b[39m \u001b[38;5;241m<\u001b[39m\u001b[38;5;241m=\u001b[39m\u001b[38;5;241m-\u001b[39m\u001b[38;5;241m500\u001b[39m:\n\u001b[0;32m     69\u001b[0m     ball\u001b[38;5;241m.\u001b[39mxspeed\u001b[38;5;241m=\u001b[39m\u001b[38;5;241m-\u001b[39mball\u001b[38;5;241m.\u001b[39mxspeed\n",
      "File \u001b[1;32m~\\anaconda3\\lib\\turtle.py:1776\u001b[0m, in \u001b[0;36mTNavigator.goto\u001b[1;34m(self, x, y)\u001b[0m\n\u001b[0;32m   1774\u001b[0m     \u001b[38;5;28mself\u001b[39m\u001b[38;5;241m.\u001b[39m_goto(Vec2D(\u001b[38;5;241m*\u001b[39mx))\n\u001b[0;32m   1775\u001b[0m \u001b[38;5;28;01melse\u001b[39;00m:\n\u001b[1;32m-> 1776\u001b[0m     \u001b[38;5;28;43mself\u001b[39;49m\u001b[38;5;241;43m.\u001b[39;49m\u001b[43m_goto\u001b[49m\u001b[43m(\u001b[49m\u001b[43mVec2D\u001b[49m\u001b[43m(\u001b[49m\u001b[43mx\u001b[49m\u001b[43m,\u001b[49m\u001b[43m \u001b[49m\u001b[43my\u001b[49m\u001b[43m)\u001b[49m\u001b[43m)\u001b[49m\n",
      "File \u001b[1;32m~\\anaconda3\\lib\\turtle.py:3159\u001b[0m, in \u001b[0;36mRawTurtle._goto\u001b[1;34m(self, end)\u001b[0m\n\u001b[0;32m   3151\u001b[0m go_modes \u001b[38;5;241m=\u001b[39m ( \u001b[38;5;28mself\u001b[39m\u001b[38;5;241m.\u001b[39m_drawing,\n\u001b[0;32m   3152\u001b[0m              \u001b[38;5;28mself\u001b[39m\u001b[38;5;241m.\u001b[39m_pencolor,\n\u001b[0;32m   3153\u001b[0m              \u001b[38;5;28mself\u001b[39m\u001b[38;5;241m.\u001b[39m_pensize,\n\u001b[0;32m   3154\u001b[0m              \u001b[38;5;28misinstance\u001b[39m(\u001b[38;5;28mself\u001b[39m\u001b[38;5;241m.\u001b[39m_fillpath, \u001b[38;5;28mlist\u001b[39m))\n\u001b[0;32m   3155\u001b[0m screen \u001b[38;5;241m=\u001b[39m \u001b[38;5;28mself\u001b[39m\u001b[38;5;241m.\u001b[39mscreen\n\u001b[0;32m   3156\u001b[0m undo_entry \u001b[38;5;241m=\u001b[39m (\u001b[38;5;124m\"\u001b[39m\u001b[38;5;124mgo\u001b[39m\u001b[38;5;124m\"\u001b[39m, \u001b[38;5;28mself\u001b[39m\u001b[38;5;241m.\u001b[39m_position, end, go_modes,\n\u001b[0;32m   3157\u001b[0m               (\u001b[38;5;28mself\u001b[39m\u001b[38;5;241m.\u001b[39mcurrentLineItem,\n\u001b[0;32m   3158\u001b[0m               \u001b[38;5;28mself\u001b[39m\u001b[38;5;241m.\u001b[39mcurrentLine[:],\n\u001b[1;32m-> 3159\u001b[0m               \u001b[43mscreen\u001b[49m\u001b[38;5;241;43m.\u001b[39;49m\u001b[43m_pointlist\u001b[49m\u001b[43m(\u001b[49m\u001b[38;5;28;43mself\u001b[39;49m\u001b[38;5;241;43m.\u001b[39;49m\u001b[43mcurrentLineItem\u001b[49m\u001b[43m)\u001b[49m,\n\u001b[0;32m   3160\u001b[0m               \u001b[38;5;28mself\u001b[39m\u001b[38;5;241m.\u001b[39mitems[:])\n\u001b[0;32m   3161\u001b[0m               )\n\u001b[0;32m   3162\u001b[0m \u001b[38;5;28;01mif\u001b[39;00m \u001b[38;5;28mself\u001b[39m\u001b[38;5;241m.\u001b[39mundobuffer:\n\u001b[0;32m   3163\u001b[0m     \u001b[38;5;28mself\u001b[39m\u001b[38;5;241m.\u001b[39mundobuffer\u001b[38;5;241m.\u001b[39mpush(undo_entry)\n",
      "File \u001b[1;32m~\\anaconda3\\lib\\turtle.py:753\u001b[0m, in \u001b[0;36mTurtleScreenBase._pointlist\u001b[1;34m(self, item)\u001b[0m\n\u001b[0;32m    745\u001b[0m \u001b[38;5;28;01mdef\u001b[39;00m \u001b[38;5;21m_pointlist\u001b[39m(\u001b[38;5;28mself\u001b[39m, item):\n\u001b[0;32m    746\u001b[0m     \u001b[38;5;124;03m\"\"\"returns list of coordinate-pairs of points of item\u001b[39;00m\n\u001b[0;32m    747\u001b[0m \u001b[38;5;124;03m    Example (for insiders):\u001b[39;00m\n\u001b[0;32m    748\u001b[0m \u001b[38;5;124;03m    >>> from turtle import *\u001b[39;00m\n\u001b[1;32m   (...)\u001b[0m\n\u001b[0;32m    751\u001b[0m \u001b[38;5;124;03m    (9.9999999999999982, 0.0)]\u001b[39;00m\n\u001b[0;32m    752\u001b[0m \u001b[38;5;124;03m    >>> \"\"\"\u001b[39;00m\n\u001b[1;32m--> 753\u001b[0m     cl \u001b[38;5;241m=\u001b[39m \u001b[38;5;28;43mself\u001b[39;49m\u001b[38;5;241;43m.\u001b[39;49m\u001b[43mcv\u001b[49m\u001b[38;5;241;43m.\u001b[39;49m\u001b[43mcoords\u001b[49m\u001b[43m(\u001b[49m\u001b[43mitem\u001b[49m\u001b[43m)\u001b[49m\n\u001b[0;32m    754\u001b[0m     pl \u001b[38;5;241m=\u001b[39m [(cl[i], \u001b[38;5;241m-\u001b[39mcl[i\u001b[38;5;241m+\u001b[39m\u001b[38;5;241m1\u001b[39m]) \u001b[38;5;28;01mfor\u001b[39;00m i \u001b[38;5;129;01min\u001b[39;00m \u001b[38;5;28mrange\u001b[39m(\u001b[38;5;241m0\u001b[39m, \u001b[38;5;28mlen\u001b[39m(cl), \u001b[38;5;241m2\u001b[39m)]\n\u001b[0;32m    755\u001b[0m     \u001b[38;5;28;01mreturn\u001b[39;00m  pl\n",
      "File \u001b[1;32m<string>:1\u001b[0m, in \u001b[0;36mcoords\u001b[1;34m(self, *args, **kw)\u001b[0m\n",
      "File \u001b[1;32m~\\anaconda3\\lib\\tkinter\\__init__.py:2795\u001b[0m, in \u001b[0;36mCanvas.coords\u001b[1;34m(self, *args)\u001b[0m\n\u001b[0;32m   2791\u001b[0m \u001b[38;5;124;03m\"\"\"Return a list of coordinates for the item given in ARGS.\"\"\"\u001b[39;00m\n\u001b[0;32m   2792\u001b[0m \u001b[38;5;66;03m# XXX Should use _flatten on args\u001b[39;00m\n\u001b[0;32m   2793\u001b[0m \u001b[38;5;28;01mreturn\u001b[39;00m [\u001b[38;5;28mself\u001b[39m\u001b[38;5;241m.\u001b[39mtk\u001b[38;5;241m.\u001b[39mgetdouble(x) \u001b[38;5;28;01mfor\u001b[39;00m x \u001b[38;5;129;01min\u001b[39;00m\n\u001b[0;32m   2794\u001b[0m                    \u001b[38;5;28mself\u001b[39m\u001b[38;5;241m.\u001b[39mtk\u001b[38;5;241m.\u001b[39msplitlist(\n\u001b[1;32m-> 2795\u001b[0m            \u001b[38;5;28;43mself\u001b[39;49m\u001b[38;5;241;43m.\u001b[39;49m\u001b[43mtk\u001b[49m\u001b[38;5;241;43m.\u001b[39;49m\u001b[43mcall\u001b[49m\u001b[43m(\u001b[49m\u001b[43m(\u001b[49m\u001b[38;5;28;43mself\u001b[39;49m\u001b[38;5;241;43m.\u001b[39;49m\u001b[43m_w\u001b[49m\u001b[43m,\u001b[49m\u001b[43m \u001b[49m\u001b[38;5;124;43m'\u001b[39;49m\u001b[38;5;124;43mcoords\u001b[39;49m\u001b[38;5;124;43m'\u001b[39;49m\u001b[43m)\u001b[49m\u001b[43m \u001b[49m\u001b[38;5;241;43m+\u001b[39;49m\u001b[43m \u001b[49m\u001b[43margs\u001b[49m\u001b[43m)\u001b[49m)]\n",
      "\u001b[1;31mTclError\u001b[0m: invalid command name \".!canvas\""
     ]
    }
   ],
   "source": [
    "import numpy as np\n",
    "import turtle\n",
    "import random as rand\n",
    "screen=turtle.Screen()\n",
    "screen.bgcolor('green')\n",
    "shade=turtle.Turtle()\n",
    "shade.up()\n",
    "shade.speed(0)\n",
    "shade.pensize(5)\n",
    "shade.color('black')\n",
    "shade.goto(500,200)\n",
    "shade.down()\n",
    "shade.hideturtle()\n",
    "shade.goto(500,-200)\n",
    "shade.goto(-500,-200)\n",
    "shade.goto(-500,200)\n",
    "shade.goto(500,200)\n",
    "ball=turtle.Turtle()\n",
    "ball.shape('circle')\n",
    "ball.color('red')\n",
    "ball.up()\n",
    "ball.hideturtle()\n",
    "Pravda=True\n",
    "sqrt_1=turtle.Turtle(\"square\")\n",
    "sqrt_1.up()\n",
    "sqrt_1.shapesize(1.5,1.5,1.5)\n",
    "sqrt_1.goto(485,185)\n",
    "sqrt_2=turtle.Turtle(\"square\")\n",
    "sqrt_2.up()\n",
    "sqrt_2.shapesize(1.5,1.5,1.5)\n",
    "sqrt_2.goto(485,-185)\n",
    "sqrt_3=turtle.Turtle(\"square\")\n",
    "sqrt_3.up()\n",
    "sqrt_3.shapesize(1.5,1.5,1.5)\n",
    "sqrt_3.goto(-485,-185)\n",
    "sqrt_4=turtle.Turtle(\"square\")\n",
    "sqrt_4.up()\n",
    "sqrt_4.shapesize(1.5,1.5,1.5)\n",
    "sqrt_4.goto(-485,185)\n",
    "rx=rand.randint(-450,450)\n",
    "ry=rand.randint(-150,150)\n",
    "ball.goto(rx,ry)\n",
    "ball.showturtle()\n",
    "ball.down()\n",
    "v=int(input(\"Введите скорость \"))\n",
    "angle=int(input(\"Введите угол \"))\n",
    "ball.xspeed=v*np.cos(angle*(np.pi/180))\n",
    "ball.yspeed=v*np.sin(angle*(np.pi/180))\n",
    "coef=0.2\n",
    "while Pravda:\n",
    "    if (ball.xcor()>=470 and ball.ycor() >=170) or (ball.xcor()>=470 and ball.ycor() <=-170) or (ball.xcor()<=-470 and ball.ycor() <=-170) or (ball.xcor()<=-470 and ball.ycor() >=170):\n",
    "        ball.hideturtle()\n",
    "        ball.up()\n",
    "        Pravda=False\n",
    "    if ball.xspeed<0:\n",
    "        ball.xspeed= ball.xspeed+coef\n",
    "    else:\n",
    "        ball.xspeed= ball.xspeed-coef\n",
    "    if ball.yspeed<0:\n",
    "        ball.yspeed= ball.yspeed+coef\n",
    "    else:\n",
    "        ball.yspeed= ball.yspeed-coef\n",
    "    if abs(ball.xspeed)<=coef:\n",
    "        ball.xspeed=0\n",
    "    if abs(ball.yspeed)<=coef:\n",
    "        ball.yspeed=0\n",
    "    ball.goto(ball.xcor()+ ball.xspeed, ball.ycor()+ball.yspeed)\n",
    "    if ball.xcor()+ball.xspeed/1.8 >=500 or  ball.xcor()+ball.xspeed/1.8 <=-500:\n",
    "        ball.xspeed=-ball.xspeed\n",
    "    if ball.ycor()+ball.yspeed/1.8 >=200 or  ball.ycor()+ball.yspeed/1.8 <=-200:\n",
    "        ball.yspeed=-ball.yspeed\n",
    "screen.mainloop()"
   ]
  },
  {
   "cell_type": "code",
   "execution_count": null,
   "id": "34252f1a",
   "metadata": {},
   "outputs": [],
   "source": []
  }
 ],
 "metadata": {
  "kernelspec": {
   "display_name": "Python 3 (ipykernel)",
   "language": "python",
   "name": "python3"
  },
  "language_info": {
   "codemirror_mode": {
    "name": "ipython",
    "version": 3
   },
   "file_extension": ".py",
   "mimetype": "text/x-python",
   "name": "python",
   "nbconvert_exporter": "python",
   "pygments_lexer": "ipython3",
   "version": "3.10.9"
  }
 },
 "nbformat": 4,
 "nbformat_minor": 5
}
